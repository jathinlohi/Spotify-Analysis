{
 "cells": [
  {
   "cell_type": "markdown",
   "metadata": {},
   "source": [
    "Importing Packages that are required"
   ]
  },
  {
   "cell_type": "code",
   "execution_count": null,
   "metadata": {},
   "outputs": [],
   "source": [
    "import numpy as np\n",
    "import pandas as pd\n",
    "import matplotlib as plt\n",
    "from matplotlib import figure\n",
    "import matplotlib.pyplot as plt\n",
    "import seaborn as sns\n",
    "\n",
    "dataset= pd.read_csv(r\"C:\\Users\\Jathin S Lohi\\OneDrive\\Desktop\\Spotify Project\\tracks.csv\")\n",
    "# print(dataset.head())\n",
    "\n",
    "# Identify null values\n",
    "print(pd.isnull(dataset).sum()) \n",
    "print(dataset.info())\n",
    "\n",
    "# sorting the songs on the basis of their popularity\n",
    "sorted=dataset.sort_values('popularity', ascending=True)\n",
    "\n",
    "# Identify least popular songs\n",
    "print(sorted.head())\n",
    "\n",
    "print(dataset.describe().transpose())\n",
    "\n",
    "# top popular songs with popluarity greater than 90\n",
    "most_popular= dataset.query('popularity > 90',inplace = False).sort_values('popularity',ascending = True)\n",
    "print(most_popular)\n",
    "\n",
    "# Top 10 streamed songs on spotify based on its Popularity\n",
    "most_popular= dataset.query('popularity > 90',inplace = False).sort_values('popularity',ascending = False)\n",
    "print(most_popular[:10])\n",
    "\n",
    "# converting release date to datetime format\n",
    "dataset.set_index(\"release_date\", inplace=True)\n",
    "dataset.index=pd.to_datetime(dataset.index, format='mixed', dayfirst=True)\n",
    "print(dataset.head())\n",
    "\n",
    "# Checking Random Songs by index\n",
    "print(dataset['artists'].iloc[18])\n",
    "\n",
    "# Converting duration from ms to sec\n",
    "dataset['duration']=dataset['duration_ms'].apply(lambda x: round(x/1000))\n",
    "dataset=dataset.drop('duration_ms', axis=1)\n",
    "\n",
    "print(dataset['duration'].head())\n"
   ]
  },
  {
   "cell_type": "markdown",
   "metadata": {},
   "source": [
    "Loading the Dataset"
   ]
  },
  {
   "cell_type": "code",
   "execution_count": null,
   "metadata": {},
   "outputs": [],
   "source": [
    "dataset= pd.read_csv(r\"C:\\Users\\Jathin S Lohi\\OneDrive\\Desktop\\Spotify Project\\tracks.csv\")\n",
    "# print(dataset.head())"
   ]
  }
 ],
 "metadata": {
  "kernelspec": {
   "display_name": "Python 3",
   "language": "python",
   "name": "python3"
  },
  "language_info": {
   "codemirror_mode": {
    "name": "ipython",
    "version": 3
   },
   "file_extension": ".py",
   "mimetype": "text/x-python",
   "name": "python",
   "nbconvert_exporter": "python",
   "pygments_lexer": "ipython3",
   "version": "3.11.4"
  }
 },
 "nbformat": 4,
 "nbformat_minor": 2
}
